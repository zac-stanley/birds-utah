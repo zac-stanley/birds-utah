{
 "cells": [
  {
   "cell_type": "markdown",
   "metadata": {},
   "source": [
    "### Final tabular operations in preparation for adding data to web map\n",
    "In this notebook we'll read back in the utah_riparian_birds.geojson and perform a few additional tabular operations that will aid in making our data look a bit nicer in the final web map. We'll also verify that our streams and occurrennces in crs WGS84 so they play nicely with our web map.\n",
    "\n",
    "Notebook by Zac Stanley for New Maps Plus - MAP674"
   ]
  },
  {
   "cell_type": "markdown",
   "metadata": {},
   "source": [
    "#### Import python libraries"
   ]
  },
  {
   "cell_type": "code",
   "execution_count": 1,
   "metadata": {},
   "outputs": [],
   "source": [
    "%matplotlib inline\n",
    "\n",
    "import geopandas as gpd\n",
    "import pandas as pd\n",
    "import matplotlib.pyplot as plt\n",
    "from shapely.geometry import Point\n",
    "\n",
    "# change default max columns\n",
    "pd.set_option('display.max_rows', None)\n",
    "\n",
    "# change default figure size\n",
    "plt.rcParams['figure.figsize'] = (15,12)"
   ]
  },
  {
   "cell_type": "markdown",
   "metadata": {},
   "source": [
    "#### Import local datasets "
   ]
  },
  {
   "cell_type": "code",
   "execution_count": 2,
   "metadata": {},
   "outputs": [],
   "source": [
    "#utah major streams\n",
    "utah_major_streams = gpd.read_file (\"./data/utah_major_streams.geojson\")\n",
    "\n",
    "# utah_riparian_birds\n",
    "utah_riparian_birds = gpd.read_file(\"./data/utah_riparian_birds.geojson\", encoding='UTF-8')"
   ]
  },
  {
   "cell_type": "markdown",
   "metadata": {},
   "source": [
    "#### Check CRS of each object"
   ]
  },
  {
   "cell_type": "code",
   "execution_count": 3,
   "metadata": {},
   "outputs": [
    {
     "data": {
      "text/plain": [
       "{'init': 'epsg:4326'}"
      ]
     },
     "execution_count": 3,
     "metadata": {},
     "output_type": "execute_result"
    }
   ],
   "source": [
    "utah_riparian_birds.crs"
   ]
  },
  {
   "cell_type": "code",
   "execution_count": 4,
   "metadata": {},
   "outputs": [
    {
     "data": {
      "text/plain": [
       "{'init': 'epsg:4326'}"
      ]
     },
     "execution_count": 4,
     "metadata": {},
     "output_type": "execute_result"
    }
   ],
   "source": [
    "utah_major_streams.crs"
   ]
  },
  {
   "cell_type": "markdown",
   "metadata": {},
   "source": [
    "#### Inspect utah_riparian_birds object"
   ]
  },
  {
   "cell_type": "code",
   "execution_count": 5,
   "metadata": {},
   "outputs": [
    {
     "name": "stdout",
     "output_type": "stream",
     "text": [
      "<class 'geopandas.geodataframe.GeoDataFrame'>\n",
      "RangeIndex: 598 entries, 0 to 597\n",
      "Data columns (total 15 columns):\n",
      " #   Column                  Non-Null Count  Dtype   \n",
      "---  ------                  --------------  -----   \n",
      " 0   field_1                 598 non-null    int64   \n",
      " 1   individualCount         598 non-null    object  \n",
      " 2   occurrenceStatus        598 non-null    object  \n",
      " 3   year                    598 non-null    int64   \n",
      " 4   month                   598 non-null    int64   \n",
      " 5   day                     598 non-null    int64   \n",
      " 6   stateProvince           598 non-null    object  \n",
      " 7   county                  598 non-null    object  \n",
      " 8   locality                598 non-null    object  \n",
      " 9   decimalLatitude         598 non-null    float64 \n",
      " 10  decimalLongitude        598 non-null    float64 \n",
      " 11  scientificName          598 non-null    object  \n",
      " 12  vernacularName          598 non-null    object  \n",
      " 13  verbatimScientificName  598 non-null    object  \n",
      " 14  geometry                598 non-null    geometry\n",
      "dtypes: float64(2), geometry(1), int64(4), object(8)\n",
      "memory usage: 70.2+ KB\n"
     ]
    }
   ],
   "source": [
    "utah_riparian_birds.info()"
   ]
  },
  {
   "cell_type": "markdown",
   "metadata": {},
   "source": [
    "#### Convert month column to string"
   ]
  },
  {
   "cell_type": "code",
   "execution_count": 6,
   "metadata": {},
   "outputs": [],
   "source": [
    "utah_riparian_birds['month'] = utah_riparian_birds['month'].apply(str)"
   ]
  },
  {
   "cell_type": "markdown",
   "metadata": {},
   "source": [
    "#### Replace month number with month name in month column"
   ]
  },
  {
   "cell_type": "code",
   "execution_count": 7,
   "metadata": {},
   "outputs": [],
   "source": [
    "# 1 with January, 2 with February and so on\n",
    "utah_riparian_birds['month'].replace({'1': 'January', '2': 'February','3': 'March','4': 'April','5': 'May',\n",
    "'6': 'June','7': 'July','8': 'August','9': 'September','10': 'October','11': 'November','12': 'December'},\n",
    "inplace=True)"
   ]
  },
  {
   "cell_type": "markdown",
   "metadata": {},
   "source": [
    "#### Verify the number string were replaced with name string"
   ]
  },
  {
   "cell_type": "code",
   "execution_count": 8,
   "metadata": {},
   "outputs": [
    {
     "data": {
      "text/html": [
       "<div>\n",
       "<style scoped>\n",
       "    .dataframe tbody tr th:only-of-type {\n",
       "        vertical-align: middle;\n",
       "    }\n",
       "\n",
       "    .dataframe tbody tr th {\n",
       "        vertical-align: top;\n",
       "    }\n",
       "\n",
       "    .dataframe thead th {\n",
       "        text-align: right;\n",
       "    }\n",
       "</style>\n",
       "<table border=\"1\" class=\"dataframe\">\n",
       "  <thead>\n",
       "    <tr style=\"text-align: right;\">\n",
       "      <th></th>\n",
       "      <th>field_1</th>\n",
       "      <th>individualCount</th>\n",
       "      <th>occurrenceStatus</th>\n",
       "      <th>year</th>\n",
       "      <th>month</th>\n",
       "      <th>day</th>\n",
       "      <th>stateProvince</th>\n",
       "      <th>county</th>\n",
       "      <th>locality</th>\n",
       "      <th>decimalLatitude</th>\n",
       "      <th>decimalLongitude</th>\n",
       "      <th>scientificName</th>\n",
       "      <th>vernacularName</th>\n",
       "      <th>verbatimScientificName</th>\n",
       "      <th>geometry</th>\n",
       "    </tr>\n",
       "  </thead>\n",
       "  <tbody>\n",
       "    <tr>\n",
       "      <th>0</th>\n",
       "      <td>117</td>\n",
       "      <td>4.0</td>\n",
       "      <td>PRESENT</td>\n",
       "      <td>2019</td>\n",
       "      <td>February</td>\n",
       "      <td>13</td>\n",
       "      <td>Utah</td>\n",
       "      <td>Washington</td>\n",
       "      <td>Cottonwood Cove Park</td>\n",
       "      <td>37.0906</td>\n",
       "      <td>-113.614</td>\n",
       "      <td>Passerculus sandwichensis (J.F.Gmelin, 1789)</td>\n",
       "      <td>Savannah Sparrow</td>\n",
       "      <td>Passerculus sandwichensis</td>\n",
       "      <td>POINT (-113.61400 37.09060)</td>\n",
       "    </tr>\n",
       "    <tr>\n",
       "      <th>1</th>\n",
       "      <td>631</td>\n",
       "      <td>1.0</td>\n",
       "      <td>PRESENT</td>\n",
       "      <td>2019</td>\n",
       "      <td>April</td>\n",
       "      <td>2</td>\n",
       "      <td>Utah</td>\n",
       "      <td>Washington</td>\n",
       "      <td>Zion NP--Canyon Overlook Trail</td>\n",
       "      <td>37.2134</td>\n",
       "      <td>-112.942</td>\n",
       "      <td>Thryomanes bewickii (Audubon, 1827)</td>\n",
       "      <td>Bewick's Wren</td>\n",
       "      <td>Thryomanes bewickii</td>\n",
       "      <td>POINT (-112.94200 37.21340)</td>\n",
       "    </tr>\n",
       "    <tr>\n",
       "      <th>2</th>\n",
       "      <td>2626</td>\n",
       "      <td>5.0</td>\n",
       "      <td>PRESENT</td>\n",
       "      <td>2019</td>\n",
       "      <td>May</td>\n",
       "      <td>4</td>\n",
       "      <td>Utah</td>\n",
       "      <td>Washington</td>\n",
       "      <td>Confluence Park</td>\n",
       "      <td>37.2053</td>\n",
       "      <td>-113.288</td>\n",
       "      <td>Thryomanes bewickii (Audubon, 1827)</td>\n",
       "      <td>Bewick's Wren</td>\n",
       "      <td>Thryomanes bewickii</td>\n",
       "      <td>POINT (-113.28800 37.20530)</td>\n",
       "    </tr>\n",
       "    <tr>\n",
       "      <th>3</th>\n",
       "      <td>3099</td>\n",
       "      <td>1.0</td>\n",
       "      <td>PRESENT</td>\n",
       "      <td>2019</td>\n",
       "      <td>April</td>\n",
       "      <td>12</td>\n",
       "      <td>Utah</td>\n",
       "      <td>Utah</td>\n",
       "      <td>Bartholomew Park</td>\n",
       "      <td>40.1493</td>\n",
       "      <td>-111.558</td>\n",
       "      <td>Bubo virginianus (Gmelin, 1788)</td>\n",
       "      <td>Great Horned Owl</td>\n",
       "      <td>Bubo virginianus</td>\n",
       "      <td>POINT (-111.55800 40.14930)</td>\n",
       "    </tr>\n",
       "    <tr>\n",
       "      <th>4</th>\n",
       "      <td>3160</td>\n",
       "      <td>1.0</td>\n",
       "      <td>PRESENT</td>\n",
       "      <td>2019</td>\n",
       "      <td>July</td>\n",
       "      <td>10</td>\n",
       "      <td>Utah</td>\n",
       "      <td>Kane</td>\n",
       "      <td>Orderville Canyon, Glendale US-UT</td>\n",
       "      <td>37.3325</td>\n",
       "      <td>-112.863</td>\n",
       "      <td>Catherpes mexicanus (Swainson, 1829)</td>\n",
       "      <td>Canyon Wren</td>\n",
       "      <td>Catherpes mexicanus</td>\n",
       "      <td>POINT (-112.86300 37.33250)</td>\n",
       "    </tr>\n",
       "  </tbody>\n",
       "</table>\n",
       "</div>"
      ],
      "text/plain": [
       "   field_1 individualCount occurrenceStatus  year     month  day  \\\n",
       "0      117             4.0          PRESENT  2019  February   13   \n",
       "1      631             1.0          PRESENT  2019     April    2   \n",
       "2     2626             5.0          PRESENT  2019       May    4   \n",
       "3     3099             1.0          PRESENT  2019     April   12   \n",
       "4     3160             1.0          PRESENT  2019      July   10   \n",
       "\n",
       "  stateProvince      county                           locality  \\\n",
       "0          Utah  Washington               Cottonwood Cove Park   \n",
       "1          Utah  Washington     Zion NP--Canyon Overlook Trail   \n",
       "2          Utah  Washington                    Confluence Park   \n",
       "3          Utah        Utah                   Bartholomew Park   \n",
       "4          Utah        Kane  Orderville Canyon, Glendale US-UT   \n",
       "\n",
       "   decimalLatitude  decimalLongitude  \\\n",
       "0          37.0906          -113.614   \n",
       "1          37.2134          -112.942   \n",
       "2          37.2053          -113.288   \n",
       "3          40.1493          -111.558   \n",
       "4          37.3325          -112.863   \n",
       "\n",
       "                                 scientificName    vernacularName  \\\n",
       "0  Passerculus sandwichensis (J.F.Gmelin, 1789)  Savannah Sparrow   \n",
       "1           Thryomanes bewickii (Audubon, 1827)     Bewick's Wren   \n",
       "2           Thryomanes bewickii (Audubon, 1827)     Bewick's Wren   \n",
       "3               Bubo virginianus (Gmelin, 1788)  Great Horned Owl   \n",
       "4          Catherpes mexicanus (Swainson, 1829)       Canyon Wren   \n",
       "\n",
       "      verbatimScientificName                     geometry  \n",
       "0  Passerculus sandwichensis  POINT (-113.61400 37.09060)  \n",
       "1        Thryomanes bewickii  POINT (-112.94200 37.21340)  \n",
       "2        Thryomanes bewickii  POINT (-113.28800 37.20530)  \n",
       "3           Bubo virginianus  POINT (-111.55800 40.14930)  \n",
       "4        Catherpes mexicanus  POINT (-112.86300 37.33250)  "
      ]
     },
     "execution_count": 8,
     "metadata": {},
     "output_type": "execute_result"
    }
   ],
   "source": [
    "utah_riparian_birds.head()"
   ]
  },
  {
   "cell_type": "markdown",
   "metadata": {},
   "source": [
    "### Get additional attribute information for our web map\n",
    "I would like to add the stream/river name from our Utah major streams to give more context to the points in the web map. To accomplish this we can buffer utah_riparian_birds to 300 ft and join them spatially with the utah_major_streams"
   ]
  },
  {
   "cell_type": "markdown",
   "metadata": {},
   "source": [
    "#### Re-project points and streams again for spatial operations where distances are calculated"
   ]
  },
  {
   "cell_type": "code",
   "execution_count": 9,
   "metadata": {},
   "outputs": [],
   "source": [
    "# set a variable with parameters for USA Contiguous Equidistant\n",
    "project_params  = '+proj=eqdc +lat_0=39 +lon_0=-96 +lat_1=33 +lat_2=45 +x_0=0 +y_0=0 +datum=NAD83 +units=m +no_defs'\n",
    "\n",
    "# reproject and assign to new variables\n",
    "streams_prj = utah_major_streams.to_crs(project_params)\n",
    "birds_prj = utah_riparian_birds.to_crs(project_params)"
   ]
  },
  {
   "cell_type": "markdown",
   "metadata": {},
   "source": [
    "#### Buffer occurrence points"
   ]
  },
  {
   "cell_type": "code",
   "execution_count": 10,
   "metadata": {},
   "outputs": [],
   "source": [
    "# buffer occurrences to 300 ft as this was the distance this GeoDataFrame was originally created from\n",
    "# we know the units are in meters so.......300 feet = 91.44 meters\n",
    "birds_prj['buffer'] = birds_prj.buffer(91.44)"
   ]
  },
  {
   "cell_type": "markdown",
   "metadata": {},
   "source": [
    "#### Inspect data"
   ]
  },
  {
   "cell_type": "code",
   "execution_count": 11,
   "metadata": {},
   "outputs": [
    {
     "data": {
      "text/plain": [
       "0    POLYGON ((-1548681.921 -61920.502, -1548682.36...\n",
       "1    POLYGON ((-1487771.846 -59722.682, -1487772.28...\n",
       "2    POLYGON ((-1517966.214 -54904.230, -1517966.65...\n",
       "3    POLYGON ((-1312137.111 239794.880, -1312137.55...\n",
       "4    POLYGON ((-1478483.450 -48015.680, -1478483.89...\n",
       "Name: buffer, dtype: geometry"
      ]
     },
     "execution_count": 11,
     "metadata": {},
     "output_type": "execute_result"
    }
   ],
   "source": [
    "birds_prj['buffer'].head()"
   ]
  },
  {
   "cell_type": "markdown",
   "metadata": {},
   "source": [
    "#### Make new buffered column the active geometry"
   ]
  },
  {
   "cell_type": "code",
   "execution_count": 12,
   "metadata": {},
   "outputs": [
    {
     "name": "stdout",
     "output_type": "stream",
     "text": [
      "buffer\n"
     ]
    }
   ],
   "source": [
    "birds_prj = birds_prj.set_geometry('buffer')\n",
    "\n",
    "# check what column geometry is referencing\n",
    "print(birds_prj.geometry.name) # buffer"
   ]
  },
  {
   "cell_type": "markdown",
   "metadata": {},
   "source": [
    "#### Plot buffered occurrences and streams"
   ]
  },
  {
   "cell_type": "code",
   "execution_count": 13,
   "metadata": {},
   "outputs": [
    {
     "data": {
      "image/png": "[encoded data removed]",
      "text/plain": [
       "<Figure size 1080x864 with 1 Axes>"
      ]
     },
     "metadata": {
      "needs_background": "light"
     },
     "output_type": "display_data"
    }
   ],
   "source": [
    "# verify that major streams now have buffer\n",
    "fig, ax = plt.subplots()\n",
    "\n",
    "base_color = '#f0f0f0'\n",
    "border_color = base_color\n",
    "\n",
    "birds_prj.plot(ax=ax, color='orange', zorder=2, markersize=20);\n",
    "streams_prj.plot(ax=ax, color='blue', zorder=1);\n",
    "\n",
    "# modify limits to check that buffers are displayed, confirmed\n",
    "ax.set(xlim=(-1334000,-1330000), ylim=(10000,12000));"
   ]
  },
  {
   "cell_type": "markdown",
   "metadata": {},
   "source": [
    "#### Spatially join stream attributes to buffered points"
   ]
  },
  {
   "cell_type": "code",
   "execution_count": 14,
   "metadata": {},
   "outputs": [],
   "source": [
    "# join type argument 'how' to left to keep only existing points extratced from our previous buffer operation\n",
    "birds_stream_names = gpd.sjoin(birds_prj, streams_prj, how='left', op='intersects')"
   ]
  },
  {
   "cell_type": "markdown",
   "metadata": {},
   "source": [
    "#### Verify object type"
   ]
  },
  {
   "cell_type": "code",
   "execution_count": 15,
   "metadata": {},
   "outputs": [
    {
     "data": {
      "text/plain": [
       "geopandas.geodataframe.GeoDataFrame"
      ]
     },
     "execution_count": 15,
     "metadata": {},
     "output_type": "execute_result"
    }
   ],
   "source": [
    "type(birds_stream_names)"
   ]
  },
  {
   "cell_type": "markdown",
   "metadata": {},
   "source": [
    "#### Inspect the object"
   ]
  },
  {
   "cell_type": "code",
   "execution_count": 16,
   "metadata": {},
   "outputs": [
    {
     "data": {
      "text/html": [
       "<div>\n",
       "<style scoped>\n",
       "    .dataframe tbody tr th:only-of-type {\n",
       "        vertical-align: middle;\n",
       "    }\n",
       "\n",
       "    .dataframe tbody tr th {\n",
       "        vertical-align: top;\n",
       "    }\n",
       "\n",
       "    .dataframe thead th {\n",
       "        text-align: right;\n",
       "    }\n",
       "</style>\n",
       "<table border=\"1\" class=\"dataframe\">\n",
       "  <thead>\n",
       "    <tr style=\"text-align: right;\">\n",
       "      <th></th>\n",
       "      <th>field_1</th>\n",
       "      <th>individualCount</th>\n",
       "      <th>occurrenceStatus</th>\n",
       "      <th>year</th>\n",
       "      <th>month</th>\n",
       "      <th>day</th>\n",
       "      <th>stateProvince</th>\n",
       "      <th>county</th>\n",
       "      <th>locality</th>\n",
       "      <th>decimalLatitude</th>\n",
       "      <th>...</th>\n",
       "      <th>WBArea_Per</th>\n",
       "      <th>FType</th>\n",
       "      <th>FType_Text</th>\n",
       "      <th>FCode</th>\n",
       "      <th>FCode_Text</th>\n",
       "      <th>Enabled</th>\n",
       "      <th>InUtah</th>\n",
       "      <th>IsMajor</th>\n",
       "      <th>Submerged</th>\n",
       "      <th>SHAPE_Leng</th>\n",
       "    </tr>\n",
       "  </thead>\n",
       "  <tbody>\n",
       "    <tr>\n",
       "      <th>364</th>\n",
       "      <td>622871</td>\n",
       "      <td>1.0</td>\n",
       "      <td>PRESENT</td>\n",
       "      <td>2019</td>\n",
       "      <td>May</td>\n",
       "      <td>15</td>\n",
       "      <td>Utah</td>\n",
       "      <td>Utah</td>\n",
       "      <td>1023 Provo River Parkway, Provo, Utah, US (40....</td>\n",
       "      <td>40.3388</td>\n",
       "      <td>...</td>\n",
       "      <td>None</td>\n",
       "      <td>460</td>\n",
       "      <td>Stream/River</td>\n",
       "      <td>46006</td>\n",
       "      <td>Stream/River - Perennial</td>\n",
       "      <td>None</td>\n",
       "      <td>1</td>\n",
       "      <td>1</td>\n",
       "      <td>0</td>\n",
       "      <td>0.00982</td>\n",
       "    </tr>\n",
       "  </tbody>\n",
       "</table>\n",
       "<p>1 rows × 36 columns</p>\n",
       "</div>"
      ],
      "text/plain": [
       "     field_1 individualCount occurrenceStatus  year month  day stateProvince  \\\n",
       "364   622871             1.0          PRESENT  2019   May   15          Utah   \n",
       "\n",
       "    county                                           locality  \\\n",
       "364   Utah  1023 Provo River Parkway, Provo, Utah, US (40....   \n",
       "\n",
       "     decimalLatitude  ...  WBArea_Per FType    FType_Text  FCode  \\\n",
       "364          40.3388  ...        None   460  Stream/River  46006   \n",
       "\n",
       "                   FCode_Text Enabled  InUtah  IsMajor Submerged SHAPE_Leng  \n",
       "364  Stream/River - Perennial    None       1        1         0    0.00982  \n",
       "\n",
       "[1 rows x 36 columns]"
      ]
     },
     "execution_count": 16,
     "metadata": {},
     "output_type": "execute_result"
    }
   ],
   "source": [
    "birds_stream_names.sample()"
   ]
  },
  {
   "cell_type": "code",
   "execution_count": 17,
   "metadata": {},
   "outputs": [
    {
     "name": "stdout",
     "output_type": "stream",
     "text": [
      "<class 'geopandas.geodataframe.GeoDataFrame'>\n",
      "Int64Index: 709 entries, 0 to 597\n",
      "Data columns (total 36 columns):\n",
      " #   Column                  Non-Null Count  Dtype   \n",
      "---  ------                  --------------  -----   \n",
      " 0   field_1                 709 non-null    int64   \n",
      " 1   individualCount         709 non-null    object  \n",
      " 2   occurrenceStatus        709 non-null    object  \n",
      " 3   year                    709 non-null    int64   \n",
      " 4   month                   709 non-null    object  \n",
      " 5   day                     709 non-null    int64   \n",
      " 6   stateProvince           709 non-null    object  \n",
      " 7   county                  709 non-null    object  \n",
      " 8   locality                709 non-null    object  \n",
      " 9   decimalLatitude         709 non-null    float64 \n",
      " 10  decimalLongitude        709 non-null    float64 \n",
      " 11  scientificName          709 non-null    object  \n",
      " 12  vernacularName          709 non-null    object  \n",
      " 13  verbatimScientificName  709 non-null    object  \n",
      " 14  geometry                709 non-null    geometry\n",
      " 15  buffer                  709 non-null    geometry\n",
      " 16  index_right             709 non-null    int64   \n",
      " 17  OBJECTID                709 non-null    int64   \n",
      " 18  Permanent_              709 non-null    object  \n",
      " 19  FDate                   709 non-null    object  \n",
      " 20  Resolution              709 non-null    int64   \n",
      " 21  GNIS_ID                 662 non-null    object  \n",
      " 22  GNIS_Name               662 non-null    object  \n",
      " 23  LengthKM                709 non-null    float64 \n",
      " 24  ReachCode               709 non-null    object  \n",
      " 25  FlowDir                 709 non-null    int64   \n",
      " 26  WBArea_Per              0 non-null      object  \n",
      " 27  FType                   709 non-null    int64   \n",
      " 28  FType_Text              709 non-null    object  \n",
      " 29  FCode                   709 non-null    int64   \n",
      " 30  FCode_Text              709 non-null    object  \n",
      " 31  Enabled                 0 non-null      object  \n",
      " 32  InUtah                  709 non-null    int64   \n",
      " 33  IsMajor                 709 non-null    int64   \n",
      " 34  Submerged               709 non-null    int64   \n",
      " 35  SHAPE_Leng              709 non-null    float64 \n",
      "dtypes: float64(4), geometry(2), int64(12), object(18)\n",
      "memory usage: 204.9+ KB\n"
     ]
    }
   ],
   "source": [
    "birds_stream_names.info()"
   ]
  },
  {
   "cell_type": "markdown",
   "metadata": {},
   "source": [
    "#### Drop uneccessary columns"
   ]
  },
  {
   "cell_type": "code",
   "execution_count": 18,
   "metadata": {},
   "outputs": [],
   "source": [
    "birds_stream_names.drop(['OBJECTID','Permanent_','FDate','Resolution', 'GNIS_ID','LengthKM','ReachCode','buffer', 'FlowDir',\n",
    "                         'WBArea_Per','FType','FType_Text','FCode','FCode_Text','Enabled','InUtah', 'IsMajor', 'Submerged',\n",
    "                         'SHAPE_Leng'], axis=1,inplace=True)"
   ]
  },
  {
   "cell_type": "markdown",
   "metadata": {},
   "source": [
    "#### Inspect the object again to verify drop fields\n",
    "We want to keep 'GNIS_Name' field for display in web map"
   ]
  },
  {
   "cell_type": "code",
   "execution_count": 19,
   "metadata": {},
   "outputs": [
    {
     "name": "stdout",
     "output_type": "stream",
     "text": [
      "<class 'geopandas.geodataframe.GeoDataFrame'>\n",
      "Int64Index: 709 entries, 0 to 597\n",
      "Data columns (total 17 columns):\n",
      " #   Column                  Non-Null Count  Dtype   \n",
      "---  ------                  --------------  -----   \n",
      " 0   field_1                 709 non-null    int64   \n",
      " 1   individualCount         709 non-null    object  \n",
      " 2   occurrenceStatus        709 non-null    object  \n",
      " 3   year                    709 non-null    int64   \n",
      " 4   month                   709 non-null    object  \n",
      " 5   day                     709 non-null    int64   \n",
      " 6   stateProvince           709 non-null    object  \n",
      " 7   county                  709 non-null    object  \n",
      " 8   locality                709 non-null    object  \n",
      " 9   decimalLatitude         709 non-null    float64 \n",
      " 10  decimalLongitude        709 non-null    float64 \n",
      " 11  scientificName          709 non-null    object  \n",
      " 12  vernacularName          709 non-null    object  \n",
      " 13  verbatimScientificName  709 non-null    object  \n",
      " 14  geometry                709 non-null    geometry\n",
      " 15  index_right             709 non-null    int64   \n",
      " 16  GNIS_Name               662 non-null    object  \n",
      "dtypes: float64(2), geometry(1), int64(4), object(10)\n",
      "memory usage: 99.7+ KB\n"
     ]
    }
   ],
   "source": [
    "birds_stream_names.info() "
   ]
  },
  {
   "cell_type": "markdown",
   "metadata": {},
   "source": [
    "#### Change geometry reference back to 'geometry'"
   ]
  },
  {
   "cell_type": "code",
   "execution_count": 20,
   "metadata": {},
   "outputs": [
    {
     "name": "stdout",
     "output_type": "stream",
     "text": [
      "geometry\n"
     ]
    }
   ],
   "source": [
    "birds_stream_names = birds_stream_names.set_geometry('geometry')\n",
    "\n",
    "# check what column geometry is referencing\n",
    "print(birds_stream_names.geometry.name) # bufferbirds_prj = birds_prj.set_geometry('geometry')"
   ]
  },
  {
   "cell_type": "markdown",
   "metadata": {},
   "source": [
    "#### Plot bird_stream_names"
   ]
  },
  {
   "cell_type": "code",
   "execution_count": 21,
   "metadata": {},
   "outputs": [
    {
     "data": {
      "image/png": "[encoded data removed]",
      "text/plain": [
       "<Figure size 1080x1080 with 1 Axes>"
      ]
     },
     "metadata": {
      "needs_background": "light"
     },
     "output_type": "display_data"
    }
   ],
   "source": [
    "birds_stream_names.plot(figsize=(15,15));"
   ]
  },
  {
   "cell_type": "markdown",
   "metadata": {},
   "source": [
    "### Prepare final data for web mapping"
   ]
  },
  {
   "cell_type": "markdown",
   "metadata": {},
   "source": [
    "#### Verify crs of birds_stream_names"
   ]
  },
  {
   "cell_type": "code",
   "execution_count": 22,
   "metadata": {},
   "outputs": [
    {
     "data": {
      "text/plain": [
       "'+proj=eqdc +lat_0=39 +lon_0=-96 +lat_1=33 +lat_2=45 +x_0=0 +y_0=0 +datum=NAD83 +units=m +no_defs'"
      ]
     },
     "execution_count": 22,
     "metadata": {},
     "output_type": "execute_result"
    }
   ],
   "source": [
    "birds_stream_names.crs"
   ]
  },
  {
   "cell_type": "markdown",
   "metadata": {},
   "source": [
    "#### Re-project birds_stream_names to WGS84"
   ]
  },
  {
   "cell_type": "code",
   "execution_count": 23,
   "metadata": {},
   "outputs": [],
   "source": [
    "birds_stream_names_4326 = birds_stream_names.to_crs('+proj=longlat +datum=WGS84 +no_defs')"
   ]
  },
  {
   "cell_type": "markdown",
   "metadata": {},
   "source": [
    "#### Verify crs"
   ]
  },
  {
   "cell_type": "code",
   "execution_count": 24,
   "metadata": {},
   "outputs": [
    {
     "data": {
      "text/plain": [
       "'+proj=longlat +datum=WGS84 +no_defs'"
      ]
     },
     "execution_count": 24,
     "metadata": {},
     "output_type": "execute_result"
    }
   ],
   "source": [
    "birds_stream_names_4326.crs"
   ]
  },
  {
   "cell_type": "markdown",
   "metadata": {},
   "source": [
    "#### Inspect geometry colum for lat lon's"
   ]
  },
  {
   "cell_type": "code",
   "execution_count": 25,
   "metadata": {},
   "outputs": [
    {
     "data": {
      "text/html": [
       "<div>\n",
       "<style scoped>\n",
       "    .dataframe tbody tr th:only-of-type {\n",
       "        vertical-align: middle;\n",
       "    }\n",
       "\n",
       "    .dataframe tbody tr th {\n",
       "        vertical-align: top;\n",
       "    }\n",
       "\n",
       "    .dataframe thead th {\n",
       "        text-align: right;\n",
       "    }\n",
       "</style>\n",
       "<table border=\"1\" class=\"dataframe\">\n",
       "  <thead>\n",
       "    <tr style=\"text-align: right;\">\n",
       "      <th></th>\n",
       "      <th>field_1</th>\n",
       "      <th>individualCount</th>\n",
       "      <th>occurrenceStatus</th>\n",
       "      <th>year</th>\n",
       "      <th>month</th>\n",
       "      <th>day</th>\n",
       "      <th>stateProvince</th>\n",
       "      <th>county</th>\n",
       "      <th>locality</th>\n",
       "      <th>decimalLatitude</th>\n",
       "      <th>decimalLongitude</th>\n",
       "      <th>scientificName</th>\n",
       "      <th>vernacularName</th>\n",
       "      <th>verbatimScientificName</th>\n",
       "      <th>geometry</th>\n",
       "      <th>index_right</th>\n",
       "      <th>GNIS_Name</th>\n",
       "    </tr>\n",
       "  </thead>\n",
       "  <tbody>\n",
       "    <tr>\n",
       "      <th>422</th>\n",
       "      <td>706851</td>\n",
       "      <td>1.0</td>\n",
       "      <td>PRESENT</td>\n",
       "      <td>2019</td>\n",
       "      <td>May</td>\n",
       "      <td>7</td>\n",
       "      <td>Utah</td>\n",
       "      <td>San Juan</td>\n",
       "      <td>Bullet Canyon--Jailhouse Spring &amp; Ruin</td>\n",
       "      <td>37.4374</td>\n",
       "      <td>-110.013</td>\n",
       "      <td>Catherpes mexicanus (Swainson, 1829)</td>\n",
       "      <td>Canyon Wren</td>\n",
       "      <td>Catherpes mexicanus</td>\n",
       "      <td>POINT (-110.01300 37.43740)</td>\n",
       "      <td>7307</td>\n",
       "      <td>None</td>\n",
       "    </tr>\n",
       "  </tbody>\n",
       "</table>\n",
       "</div>"
      ],
      "text/plain": [
       "     field_1 individualCount occurrenceStatus  year month  day stateProvince  \\\n",
       "422   706851             1.0          PRESENT  2019   May    7          Utah   \n",
       "\n",
       "       county                                locality  decimalLatitude  \\\n",
       "422  San Juan  Bullet Canyon--Jailhouse Spring & Ruin          37.4374   \n",
       "\n",
       "     decimalLongitude                        scientificName vernacularName  \\\n",
       "422          -110.013  Catherpes mexicanus (Swainson, 1829)    Canyon Wren   \n",
       "\n",
       "    verbatimScientificName                     geometry  index_right GNIS_Name  \n",
       "422    Catherpes mexicanus  POINT (-110.01300 37.43740)         7307      None  "
      ]
     },
     "execution_count": 25,
     "metadata": {},
     "output_type": "execute_result"
    }
   ],
   "source": [
    "birds_stream_names_4326.sample()"
   ]
  },
  {
   "cell_type": "markdown",
   "metadata": {},
   "source": [
    "#### Write final file to geoJSON"
   ]
  },
  {
   "cell_type": "code",
   "execution_count": 26,
   "metadata": {},
   "outputs": [
    {
     "ename": "PermissionError",
     "evalue": "[WinError 32] The process cannot access the file because it is being used by another process: './data/birds_stream_names_4326.geojson'",
     "output_type": "error",
     "traceback": [
      "\u001b[1;31m---------------------------------------------------------------------------\u001b[0m",
      "\u001b[1;31mPermissionError\u001b[0m                           Traceback (most recent call last)",
      "\u001b[1;32m<ipython-input-26-22421e4f9b38>\u001b[0m in \u001b[0;36m<module>\u001b[1;34m\u001b[0m\n\u001b[1;32m----> 1\u001b[1;33m \u001b[0mbirds_stream_names_4326\u001b[0m\u001b[1;33m.\u001b[0m\u001b[0mto_file\u001b[0m\u001b[1;33m(\u001b[0m\u001b[1;34m\"./data/birds_stream_names_4326.geojson\"\u001b[0m\u001b[1;33m,\u001b[0m \u001b[0mdriver\u001b[0m\u001b[1;33m=\u001b[0m\u001b[1;34m'GeoJSON'\u001b[0m\u001b[1;33m)\u001b[0m\u001b[1;33m\u001b[0m\u001b[1;33m\u001b[0m\u001b[0m\n\u001b[0m",
      "\u001b[1;32m~\\Miniconda3\\envs\\birds_utah\\lib\\site-packages\\geopandas\\geodataframe.py\u001b[0m in \u001b[0;36mto_file\u001b[1;34m(self, filename, driver, schema, **kwargs)\u001b[0m\n\u001b[0;32m    502\u001b[0m         \u001b[1;32mfrom\u001b[0m \u001b[0mgeopandas\u001b[0m\u001b[1;33m.\u001b[0m\u001b[0mio\u001b[0m\u001b[1;33m.\u001b[0m\u001b[0mfile\u001b[0m \u001b[1;32mimport\u001b[0m \u001b[0mto_file\u001b[0m\u001b[1;33m\u001b[0m\u001b[1;33m\u001b[0m\u001b[0m\n\u001b[0;32m    503\u001b[0m \u001b[1;33m\u001b[0m\u001b[0m\n\u001b[1;32m--> 504\u001b[1;33m         \u001b[0mto_file\u001b[0m\u001b[1;33m(\u001b[0m\u001b[0mself\u001b[0m\u001b[1;33m,\u001b[0m \u001b[0mfilename\u001b[0m\u001b[1;33m,\u001b[0m \u001b[0mdriver\u001b[0m\u001b[1;33m,\u001b[0m \u001b[0mschema\u001b[0m\u001b[1;33m,\u001b[0m \u001b[1;33m**\u001b[0m\u001b[0mkwargs\u001b[0m\u001b[1;33m)\u001b[0m\u001b[1;33m\u001b[0m\u001b[1;33m\u001b[0m\u001b[0m\n\u001b[0m\u001b[0;32m    505\u001b[0m \u001b[1;33m\u001b[0m\u001b[0m\n\u001b[0;32m    506\u001b[0m     \u001b[1;32mdef\u001b[0m \u001b[0mto_crs\u001b[0m\u001b[1;33m(\u001b[0m\u001b[0mself\u001b[0m\u001b[1;33m,\u001b[0m \u001b[0mcrs\u001b[0m\u001b[1;33m=\u001b[0m\u001b[1;32mNone\u001b[0m\u001b[1;33m,\u001b[0m \u001b[0mepsg\u001b[0m\u001b[1;33m=\u001b[0m\u001b[1;32mNone\u001b[0m\u001b[1;33m,\u001b[0m \u001b[0minplace\u001b[0m\u001b[1;33m=\u001b[0m\u001b[1;32mFalse\u001b[0m\u001b[1;33m)\u001b[0m\u001b[1;33m:\u001b[0m\u001b[1;33m\u001b[0m\u001b[1;33m\u001b[0m\u001b[0m\n",
      "\u001b[1;32m~\\Miniconda3\\envs\\birds_utah\\lib\\site-packages\\geopandas\\io\\file.py\u001b[0m in \u001b[0;36mto_file\u001b[1;34m(df, filename, driver, schema, **kwargs)\u001b[0m\n\u001b[0;32m    125\u001b[0m         \u001b[0mschema\u001b[0m \u001b[1;33m=\u001b[0m \u001b[0minfer_schema\u001b[0m\u001b[1;33m(\u001b[0m\u001b[0mdf\u001b[0m\u001b[1;33m)\u001b[0m\u001b[1;33m\u001b[0m\u001b[1;33m\u001b[0m\u001b[0m\n\u001b[0;32m    126\u001b[0m     \u001b[1;32mwith\u001b[0m \u001b[0mfiona_env\u001b[0m\u001b[1;33m(\u001b[0m\u001b[1;33m)\u001b[0m\u001b[1;33m:\u001b[0m\u001b[1;33m\u001b[0m\u001b[1;33m\u001b[0m\u001b[0m\n\u001b[1;32m--> 127\u001b[1;33m         with fiona.open(\n\u001b[0m\u001b[0;32m    128\u001b[0m             \u001b[0mfilename\u001b[0m\u001b[1;33m,\u001b[0m \u001b[1;34m\"w\"\u001b[0m\u001b[1;33m,\u001b[0m \u001b[0mdriver\u001b[0m\u001b[1;33m=\u001b[0m\u001b[0mdriver\u001b[0m\u001b[1;33m,\u001b[0m \u001b[0mcrs\u001b[0m\u001b[1;33m=\u001b[0m\u001b[0mdf\u001b[0m\u001b[1;33m.\u001b[0m\u001b[0mcrs\u001b[0m\u001b[1;33m,\u001b[0m \u001b[0mschema\u001b[0m\u001b[1;33m=\u001b[0m\u001b[0mschema\u001b[0m\u001b[1;33m,\u001b[0m \u001b[1;33m**\u001b[0m\u001b[0mkwargs\u001b[0m\u001b[1;33m\u001b[0m\u001b[1;33m\u001b[0m\u001b[0m\n\u001b[0;32m    129\u001b[0m         ) as colxn:\n",
      "\u001b[1;32m~\\Miniconda3\\envs\\birds_utah\\lib\\site-packages\\fiona\\env.py\u001b[0m in \u001b[0;36mwrapper\u001b[1;34m(*args, **kwargs)\u001b[0m\n\u001b[0;32m    394\u001b[0m     \u001b[1;32mdef\u001b[0m \u001b[0mwrapper\u001b[0m\u001b[1;33m(\u001b[0m\u001b[1;33m*\u001b[0m\u001b[0margs\u001b[0m\u001b[1;33m,\u001b[0m \u001b[1;33m**\u001b[0m\u001b[0mkwargs\u001b[0m\u001b[1;33m)\u001b[0m\u001b[1;33m:\u001b[0m\u001b[1;33m\u001b[0m\u001b[1;33m\u001b[0m\u001b[0m\n\u001b[0;32m    395\u001b[0m         \u001b[1;32mif\u001b[0m \u001b[0mlocal\u001b[0m\u001b[1;33m.\u001b[0m\u001b[0m_env\u001b[0m\u001b[1;33m:\u001b[0m\u001b[1;33m\u001b[0m\u001b[1;33m\u001b[0m\u001b[0m\n\u001b[1;32m--> 396\u001b[1;33m             \u001b[1;32mreturn\u001b[0m \u001b[0mf\u001b[0m\u001b[1;33m(\u001b[0m\u001b[1;33m*\u001b[0m\u001b[0margs\u001b[0m\u001b[1;33m,\u001b[0m \u001b[1;33m**\u001b[0m\u001b[0mkwargs\u001b[0m\u001b[1;33m)\u001b[0m\u001b[1;33m\u001b[0m\u001b[1;33m\u001b[0m\u001b[0m\n\u001b[0m\u001b[0;32m    397\u001b[0m         \u001b[1;32melse\u001b[0m\u001b[1;33m:\u001b[0m\u001b[1;33m\u001b[0m\u001b[1;33m\u001b[0m\u001b[0m\n\u001b[0;32m    398\u001b[0m             \u001b[1;32mif\u001b[0m \u001b[0misinstance\u001b[0m\u001b[1;33m(\u001b[0m\u001b[0margs\u001b[0m\u001b[1;33m[\u001b[0m\u001b[1;36m0\u001b[0m\u001b[1;33m]\u001b[0m\u001b[1;33m,\u001b[0m \u001b[0mstr\u001b[0m\u001b[1;33m)\u001b[0m\u001b[1;33m:\u001b[0m\u001b[1;33m\u001b[0m\u001b[1;33m\u001b[0m\u001b[0m\n",
      "\u001b[1;32m~\\Miniconda3\\envs\\birds_utah\\lib\\site-packages\\fiona\\__init__.py\u001b[0m in \u001b[0;36mopen\u001b[1;34m(fp, mode, driver, schema, crs, encoding, layer, vfs, enabled_drivers, crs_wkt, **kwargs)\u001b[0m\n\u001b[0;32m    259\u001b[0m             \u001b[1;32melse\u001b[0m\u001b[1;33m:\u001b[0m\u001b[1;33m\u001b[0m\u001b[1;33m\u001b[0m\u001b[0m\n\u001b[0;32m    260\u001b[0m                 \u001b[0mthis_schema\u001b[0m \u001b[1;33m=\u001b[0m \u001b[1;32mNone\u001b[0m\u001b[1;33m\u001b[0m\u001b[1;33m\u001b[0m\u001b[0m\n\u001b[1;32m--> 261\u001b[1;33m             c = Collection(path, mode, crs=crs, driver=driver, schema=this_schema,\n\u001b[0m\u001b[0;32m    262\u001b[0m                            \u001b[0mencoding\u001b[0m\u001b[1;33m=\u001b[0m\u001b[0mencoding\u001b[0m\u001b[1;33m,\u001b[0m \u001b[0mlayer\u001b[0m\u001b[1;33m=\u001b[0m\u001b[0mlayer\u001b[0m\u001b[1;33m,\u001b[0m \u001b[0menabled_drivers\u001b[0m\u001b[1;33m=\u001b[0m\u001b[0menabled_drivers\u001b[0m\u001b[1;33m,\u001b[0m \u001b[0mcrs_wkt\u001b[0m\u001b[1;33m=\u001b[0m\u001b[0mcrs_wkt\u001b[0m\u001b[1;33m,\u001b[0m\u001b[1;33m\u001b[0m\u001b[1;33m\u001b[0m\u001b[0m\n\u001b[0;32m    263\u001b[0m                            **kwargs)\n",
      "\u001b[1;32m~\\Miniconda3\\envs\\birds_utah\\lib\\site-packages\\fiona\\collection.py\u001b[0m in \u001b[0;36m__init__\u001b[1;34m(self, path, mode, driver, schema, crs, encoding, layer, vsi, archive, enabled_drivers, crs_wkt, ignore_fields, ignore_geometry, **kwargs)\u001b[0m\n\u001b[0;32m    160\u001b[0m             \u001b[1;32melif\u001b[0m \u001b[0mself\u001b[0m\u001b[1;33m.\u001b[0m\u001b[0mmode\u001b[0m \u001b[1;32min\u001b[0m \u001b[1;33m(\u001b[0m\u001b[1;34m'a'\u001b[0m\u001b[1;33m,\u001b[0m \u001b[1;34m'w'\u001b[0m\u001b[1;33m)\u001b[0m\u001b[1;33m:\u001b[0m\u001b[1;33m\u001b[0m\u001b[1;33m\u001b[0m\u001b[0m\n\u001b[0;32m    161\u001b[0m                 \u001b[0mself\u001b[0m\u001b[1;33m.\u001b[0m\u001b[0msession\u001b[0m \u001b[1;33m=\u001b[0m \u001b[0mWritingSession\u001b[0m\u001b[1;33m(\u001b[0m\u001b[1;33m)\u001b[0m\u001b[1;33m\u001b[0m\u001b[1;33m\u001b[0m\u001b[0m\n\u001b[1;32m--> 162\u001b[1;33m                 \u001b[0mself\u001b[0m\u001b[1;33m.\u001b[0m\u001b[0msession\u001b[0m\u001b[1;33m.\u001b[0m\u001b[0mstart\u001b[0m\u001b[1;33m(\u001b[0m\u001b[0mself\u001b[0m\u001b[1;33m,\u001b[0m \u001b[1;33m**\u001b[0m\u001b[0mkwargs\u001b[0m\u001b[1;33m)\u001b[0m\u001b[1;33m\u001b[0m\u001b[1;33m\u001b[0m\u001b[0m\n\u001b[0m\u001b[0;32m    163\u001b[0m         \u001b[1;32mexcept\u001b[0m \u001b[0mIOError\u001b[0m\u001b[1;33m:\u001b[0m\u001b[1;33m\u001b[0m\u001b[1;33m\u001b[0m\u001b[0m\n\u001b[0;32m    164\u001b[0m             \u001b[0mself\u001b[0m\u001b[1;33m.\u001b[0m\u001b[0msession\u001b[0m \u001b[1;33m=\u001b[0m \u001b[1;32mNone\u001b[0m\u001b[1;33m\u001b[0m\u001b[1;33m\u001b[0m\u001b[0m\n",
      "\u001b[1;32mfiona/ogrext.pyx\u001b[0m in \u001b[0;36mfiona.ogrext.WritingSession.start\u001b[1;34m()\u001b[0m\n",
      "\u001b[1;31mPermissionError\u001b[0m: [WinError 32] The process cannot access the file because it is being used by another process: './data/birds_stream_names_4326.geojson'"
     ]
    }
   ],
   "source": [
    "birds_stream_names_4326.to_file(\"./data/birds_stream_names_4326.geojson\", driver='GeoJSON')"
   ]
  },
  {
   "cell_type": "code",
   "execution_count": null,
   "metadata": {},
   "outputs": [],
   "source": []
  }
 ],
 "metadata": {
  "kernelspec": {
   "display_name": "Python 3",
   "language": "python",
   "name": "python3"
  },
  "language_info": {
   "codemirror_mode": {
    "name": "ipython",
    "version": 3
   },
   "file_extension": ".py",
   "mimetype": "text/x-python",
   "name": "python",
   "nbconvert_exporter": "python",
   "pygments_lexer": "ipython3",
   "version": "3.8.5"
  }
 },
 "nbformat": 4,
 "nbformat_minor": 4
}
