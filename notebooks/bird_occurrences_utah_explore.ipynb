{
 "cells": [
  {
   "cell_type": "markdown",
   "metadata": {},
   "source": [
    "### Exploring data, getting an initial look\n",
    "***Data from:***\n",
    "\n",
    "Natural Earth / geojson.xyz\n",
    "\n",
    "National Park Service unit boundaries: https://irma.nps.gov/DataStore/Reference/Profile/2224545?lnv=True\n",
    "\n",
    "Utah National Monuments and Conservation Areas: https://gis.utah.gov/data/boundaries/\n",
    "\n",
    "GBIF | Global Biodiversity Information Facility: https://www.gbif.org/ "
   ]
  },
  {
   "cell_type": "code",
   "execution_count": 1,
   "metadata": {},
   "outputs": [],
   "source": [
    "%matplotlib inline\n",
    "\n",
    "import geopandas as gpd\n",
    "import pandas as pd\n",
    "from shapely.geometry import Point\n",
    "\n",
    "# change default max columns\n",
    "pd.set_option('display.max_columns', None)"
   ]
  },
  {
   "cell_type": "code",
   "execution_count": 2,
   "metadata": {},
   "outputs": [
    {
     "data": {
      "text/plain": [
       "geopandas.geodataframe.GeoDataFrame"
      ]
     },
     "execution_count": 2,
     "metadata": {},
     "output_type": "execute_result"
    }
   ],
   "source": [
    "# import us states and provinces\n",
    "us_states = gpd.read_file (\"https://d2ad6b4ur7yvpq.cloudfront.net/naturalearth-3.3.0/ne_110m_admin_1_states_provinces_shp.geojson\")\n",
    "\n",
    "# verify type\n",
    "type(us_states)"
   ]
  },
  {
   "cell_type": "code",
   "execution_count": 3,
   "metadata": {},
   "outputs": [
    {
     "data": {
      "text/plain": [
       "{'init': 'epsg:4326'}"
      ]
     },
     "execution_count": 3,
     "metadata": {},
     "output_type": "execute_result"
    }
   ],
   "source": [
    "# check coordinate reference system\n",
    "us_states.crs # {'init': 'epsg:4326'} web mercator"
   ]
  },
  {
   "cell_type": "code",
   "execution_count": 4,
   "metadata": {},
   "outputs": [
    {
     "name": "stdout",
     "output_type": "stream",
     "text": [
      "<class 'geopandas.geodataframe.GeoDataFrame'>\n",
      "RangeIndex: 51 entries, 0 to 50\n",
      "Data columns (total 41 columns):\n",
      " #   Column        Non-Null Count  Dtype   \n",
      "---  ------        --------------  -----   \n",
      " 0   scalerank     51 non-null     int64   \n",
      " 1   adm1_code     51 non-null     object  \n",
      " 2   diss_me       51 non-null     int64   \n",
      " 3   adm1_cod_1    51 non-null     object  \n",
      " 4   iso_3166_2    51 non-null     object  \n",
      " 5   wikipedia     51 non-null     object  \n",
      " 6   sr_sov_a3     51 non-null     object  \n",
      " 7   sr_adm0_a3    51 non-null     object  \n",
      " 8   iso_a2        51 non-null     object  \n",
      " 9   adm0_sr       51 non-null     int64   \n",
      " 10  admin0_lab    51 non-null     int64   \n",
      " 11  name          51 non-null     object  \n",
      " 12  name_alt      51 non-null     object  \n",
      " 13  name_local    0 non-null      object  \n",
      " 14  type          51 non-null     object  \n",
      " 15  type_en       51 non-null     object  \n",
      " 16  code_local    51 non-null     object  \n",
      " 17  code_hasc     51 non-null     object  \n",
      " 18  note          0 non-null      object  \n",
      " 19  hasc_maybe    2 non-null      object  \n",
      " 20  region        50 non-null     object  \n",
      " 21  region_cod    0 non-null      object  \n",
      " 22  region_big    50 non-null     object  \n",
      " 23  big_code      0 non-null      object  \n",
      " 24  provnum_ne    51 non-null     int64   \n",
      " 25  gadm_level    51 non-null     int64   \n",
      " 26  check_me      51 non-null     int64   \n",
      " 27  scaleran_1    51 non-null     int64   \n",
      " 28  datarank      51 non-null     int64   \n",
      " 29  abbrev        51 non-null     object  \n",
      " 30  postal        51 non-null     object  \n",
      " 31  area_sqkm     51 non-null     int64   \n",
      " 32  sameascity    51 non-null     int64   \n",
      " 33  labelrank     51 non-null     int64   \n",
      " 34  featurec_1    51 non-null     object  \n",
      " 35  admin         51 non-null     object  \n",
      " 36  name_len      51 non-null     int64   \n",
      " 37  mapcolor9     51 non-null     int64   \n",
      " 38  mapcolor13    51 non-null     int64   \n",
      " 39  featureclass  51 non-null     object  \n",
      " 40  geometry      51 non-null     geometry\n",
      "dtypes: geometry(1), int64(15), object(25)\n",
      "memory usage: 16.5+ KB\n"
     ]
    }
   ],
   "source": [
    "us_states.info()"
   ]
  },
  {
   "cell_type": "code",
   "execution_count": 5,
   "metadata": {},
   "outputs": [
    {
     "data": {
      "text/html": [
       "<div>\n",
       "<style scoped>\n",
       "    .dataframe tbody tr th:only-of-type {\n",
       "        vertical-align: middle;\n",
       "    }\n",
       "\n",
       "    .dataframe tbody tr th {\n",
       "        vertical-align: top;\n",
       "    }\n",
       "\n",
       "    .dataframe thead th {\n",
       "        text-align: right;\n",
       "    }\n",
       "</style>\n",
       "<table border=\"1\" class=\"dataframe\">\n",
       "  <thead>\n",
       "    <tr style=\"text-align: right;\">\n",
       "      <th></th>\n",
       "      <th>scalerank</th>\n",
       "      <th>adm1_code</th>\n",
       "      <th>diss_me</th>\n",
       "      <th>adm1_cod_1</th>\n",
       "      <th>iso_3166_2</th>\n",
       "      <th>wikipedia</th>\n",
       "      <th>sr_sov_a3</th>\n",
       "      <th>sr_adm0_a3</th>\n",
       "      <th>iso_a2</th>\n",
       "      <th>adm0_sr</th>\n",
       "      <th>admin0_lab</th>\n",
       "      <th>name</th>\n",
       "      <th>name_alt</th>\n",
       "      <th>name_local</th>\n",
       "      <th>type</th>\n",
       "      <th>type_en</th>\n",
       "      <th>code_local</th>\n",
       "      <th>code_hasc</th>\n",
       "      <th>note</th>\n",
       "      <th>hasc_maybe</th>\n",
       "      <th>region</th>\n",
       "      <th>region_cod</th>\n",
       "      <th>region_big</th>\n",
       "      <th>big_code</th>\n",
       "      <th>provnum_ne</th>\n",
       "      <th>gadm_level</th>\n",
       "      <th>check_me</th>\n",
       "      <th>scaleran_1</th>\n",
       "      <th>datarank</th>\n",
       "      <th>abbrev</th>\n",
       "      <th>postal</th>\n",
       "      <th>area_sqkm</th>\n",
       "      <th>sameascity</th>\n",
       "      <th>labelrank</th>\n",
       "      <th>featurec_1</th>\n",
       "      <th>admin</th>\n",
       "      <th>name_len</th>\n",
       "      <th>mapcolor9</th>\n",
       "      <th>mapcolor13</th>\n",
       "      <th>featureclass</th>\n",
       "      <th>geometry</th>\n",
       "    </tr>\n",
       "  </thead>\n",
       "  <tbody>\n",
       "    <tr>\n",
       "      <th>0</th>\n",
       "      <td>2</td>\n",
       "      <td>USA-3514</td>\n",
       "      <td>3514</td>\n",
       "      <td>USA-3514</td>\n",
       "      <td>US-MN</td>\n",
       "      <td>http://en.wikipedia.org/wiki/Minnesota</td>\n",
       "      <td>US1</td>\n",
       "      <td>USA</td>\n",
       "      <td>US</td>\n",
       "      <td>1</td>\n",
       "      <td>2</td>\n",
       "      <td>Minnesota</td>\n",
       "      <td>MN|Minn.</td>\n",
       "      <td>None</td>\n",
       "      <td>State</td>\n",
       "      <td>State</td>\n",
       "      <td>US32</td>\n",
       "      <td>US.MN</td>\n",
       "      <td>None</td>\n",
       "      <td>None</td>\n",
       "      <td>Midwest</td>\n",
       "      <td>None</td>\n",
       "      <td>West North Central</td>\n",
       "      <td>None</td>\n",
       "      <td>0</td>\n",
       "      <td>1</td>\n",
       "      <td>10</td>\n",
       "      <td>2</td>\n",
       "      <td>1</td>\n",
       "      <td>Minn.</td>\n",
       "      <td>MN</td>\n",
       "      <td>0</td>\n",
       "      <td>-99</td>\n",
       "      <td>0</td>\n",
       "      <td>Admin-1 scale rank</td>\n",
       "      <td>United States of America</td>\n",
       "      <td>9</td>\n",
       "      <td>1</td>\n",
       "      <td>1</td>\n",
       "      <td>Admin-1 scale rank</td>\n",
       "      <td>POLYGON ((-89.59941 48.01027, -89.48888 48.013...</td>\n",
       "    </tr>\n",
       "    <tr>\n",
       "      <th>1</th>\n",
       "      <td>2</td>\n",
       "      <td>USA-3515</td>\n",
       "      <td>3515</td>\n",
       "      <td>USA-3515</td>\n",
       "      <td>US-MT</td>\n",
       "      <td>http://en.wikipedia.org/wiki/Montana</td>\n",
       "      <td>US1</td>\n",
       "      <td>USA</td>\n",
       "      <td>US</td>\n",
       "      <td>1</td>\n",
       "      <td>2</td>\n",
       "      <td>Montana</td>\n",
       "      <td>MT|Mont.</td>\n",
       "      <td>None</td>\n",
       "      <td>State</td>\n",
       "      <td>State</td>\n",
       "      <td>US30</td>\n",
       "      <td>US.MT</td>\n",
       "      <td>None</td>\n",
       "      <td>None</td>\n",
       "      <td>West</td>\n",
       "      <td>None</td>\n",
       "      <td>Mountain</td>\n",
       "      <td>None</td>\n",
       "      <td>0</td>\n",
       "      <td>1</td>\n",
       "      <td>0</td>\n",
       "      <td>2</td>\n",
       "      <td>1</td>\n",
       "      <td>Mont.</td>\n",
       "      <td>MT</td>\n",
       "      <td>0</td>\n",
       "      <td>-99</td>\n",
       "      <td>0</td>\n",
       "      <td>Admin-1 scale rank</td>\n",
       "      <td>United States of America</td>\n",
       "      <td>7</td>\n",
       "      <td>1</td>\n",
       "      <td>1</td>\n",
       "      <td>Admin-1 scale rank</td>\n",
       "      <td>POLYGON ((-111.19419 44.56116, -111.29155 44.7...</td>\n",
       "    </tr>\n",
       "    <tr>\n",
       "      <th>2</th>\n",
       "      <td>2</td>\n",
       "      <td>USA-3516</td>\n",
       "      <td>3516</td>\n",
       "      <td>USA-3516</td>\n",
       "      <td>US-ND</td>\n",
       "      <td>http://en.wikipedia.org/wiki/North_Dakota</td>\n",
       "      <td>US1</td>\n",
       "      <td>USA</td>\n",
       "      <td>US</td>\n",
       "      <td>1</td>\n",
       "      <td>2</td>\n",
       "      <td>North Dakota</td>\n",
       "      <td>ND|N.D.</td>\n",
       "      <td>None</td>\n",
       "      <td>State</td>\n",
       "      <td>State</td>\n",
       "      <td>US38</td>\n",
       "      <td>US.ND</td>\n",
       "      <td>None</td>\n",
       "      <td>None</td>\n",
       "      <td>Midwest</td>\n",
       "      <td>None</td>\n",
       "      <td>West North Central</td>\n",
       "      <td>None</td>\n",
       "      <td>0</td>\n",
       "      <td>1</td>\n",
       "      <td>0</td>\n",
       "      <td>2</td>\n",
       "      <td>1</td>\n",
       "      <td>N.D.</td>\n",
       "      <td>ND</td>\n",
       "      <td>0</td>\n",
       "      <td>-99</td>\n",
       "      <td>0</td>\n",
       "      <td>Admin-1 scale rank</td>\n",
       "      <td>United States of America</td>\n",
       "      <td>12</td>\n",
       "      <td>1</td>\n",
       "      <td>1</td>\n",
       "      <td>Admin-1 scale rank</td>\n",
       "      <td>POLYGON ((-96.60136 46.35136, -96.53891 46.199...</td>\n",
       "    </tr>\n",
       "    <tr>\n",
       "      <th>3</th>\n",
       "      <td>2</td>\n",
       "      <td>USA-3517</td>\n",
       "      <td>3517</td>\n",
       "      <td>USA-3517</td>\n",
       "      <td>US-HI</td>\n",
       "      <td>http://en.wikipedia.org/wiki/Hawaii</td>\n",
       "      <td>US1</td>\n",
       "      <td>USA</td>\n",
       "      <td>US</td>\n",
       "      <td>8</td>\n",
       "      <td>2</td>\n",
       "      <td>Hawaii</td>\n",
       "      <td>HI|Hawaii</td>\n",
       "      <td>None</td>\n",
       "      <td>State</td>\n",
       "      <td>State</td>\n",
       "      <td>US15</td>\n",
       "      <td>US.HI</td>\n",
       "      <td>None</td>\n",
       "      <td>None</td>\n",
       "      <td>West</td>\n",
       "      <td>None</td>\n",
       "      <td>Pacific</td>\n",
       "      <td>None</td>\n",
       "      <td>0</td>\n",
       "      <td>1</td>\n",
       "      <td>0</td>\n",
       "      <td>2</td>\n",
       "      <td>1</td>\n",
       "      <td>Hawaii</td>\n",
       "      <td>HI</td>\n",
       "      <td>0</td>\n",
       "      <td>-99</td>\n",
       "      <td>0</td>\n",
       "      <td>Admin-1 scale rank</td>\n",
       "      <td>United States of America</td>\n",
       "      <td>6</td>\n",
       "      <td>1</td>\n",
       "      <td>1</td>\n",
       "      <td>Admin-1 scale rank</td>\n",
       "      <td>MULTIPOLYGON (((-155.93665 19.05939, -155.9080...</td>\n",
       "    </tr>\n",
       "    <tr>\n",
       "      <th>4</th>\n",
       "      <td>2</td>\n",
       "      <td>USA-3518</td>\n",
       "      <td>3518</td>\n",
       "      <td>USA-3518</td>\n",
       "      <td>US-ID</td>\n",
       "      <td>http://en.wikipedia.org/wiki/Idaho</td>\n",
       "      <td>US1</td>\n",
       "      <td>USA</td>\n",
       "      <td>US</td>\n",
       "      <td>1</td>\n",
       "      <td>2</td>\n",
       "      <td>Idaho</td>\n",
       "      <td>ID|Idaho</td>\n",
       "      <td>None</td>\n",
       "      <td>State</td>\n",
       "      <td>State</td>\n",
       "      <td>US16</td>\n",
       "      <td>US.ID</td>\n",
       "      <td>None</td>\n",
       "      <td>None</td>\n",
       "      <td>West</td>\n",
       "      <td>None</td>\n",
       "      <td>Mountain</td>\n",
       "      <td>None</td>\n",
       "      <td>0</td>\n",
       "      <td>1</td>\n",
       "      <td>0</td>\n",
       "      <td>2</td>\n",
       "      <td>1</td>\n",
       "      <td>Idaho</td>\n",
       "      <td>ID</td>\n",
       "      <td>0</td>\n",
       "      <td>-99</td>\n",
       "      <td>0</td>\n",
       "      <td>Admin-1 scale rank</td>\n",
       "      <td>United States of America</td>\n",
       "      <td>5</td>\n",
       "      <td>1</td>\n",
       "      <td>1</td>\n",
       "      <td>Admin-1 scale rank</td>\n",
       "      <td>POLYGON ((-111.04973 44.48816, -111.05024 42.0...</td>\n",
       "    </tr>\n",
       "  </tbody>\n",
       "</table>\n",
       "</div>"
      ],
      "text/plain": [
       "   scalerank adm1_code  diss_me adm1_cod_1 iso_3166_2  \\\n",
       "0          2  USA-3514     3514   USA-3514      US-MN   \n",
       "1          2  USA-3515     3515   USA-3515      US-MT   \n",
       "2          2  USA-3516     3516   USA-3516      US-ND   \n",
       "3          2  USA-3517     3517   USA-3517      US-HI   \n",
       "4          2  USA-3518     3518   USA-3518      US-ID   \n",
       "\n",
       "                                   wikipedia sr_sov_a3 sr_adm0_a3 iso_a2  \\\n",
       "0     http://en.wikipedia.org/wiki/Minnesota       US1        USA     US   \n",
       "1       http://en.wikipedia.org/wiki/Montana       US1        USA     US   \n",
       "2  http://en.wikipedia.org/wiki/North_Dakota       US1        USA     US   \n",
       "3        http://en.wikipedia.org/wiki/Hawaii       US1        USA     US   \n",
       "4         http://en.wikipedia.org/wiki/Idaho       US1        USA     US   \n",
       "\n",
       "   adm0_sr  admin0_lab          name   name_alt name_local   type type_en  \\\n",
       "0        1           2     Minnesota   MN|Minn.       None  State   State   \n",
       "1        1           2       Montana   MT|Mont.       None  State   State   \n",
       "2        1           2  North Dakota    ND|N.D.       None  State   State   \n",
       "3        8           2        Hawaii  HI|Hawaii       None  State   State   \n",
       "4        1           2         Idaho   ID|Idaho       None  State   State   \n",
       "\n",
       "  code_local code_hasc  note hasc_maybe   region region_cod  \\\n",
       "0       US32     US.MN  None       None  Midwest       None   \n",
       "1       US30     US.MT  None       None     West       None   \n",
       "2       US38     US.ND  None       None  Midwest       None   \n",
       "3       US15     US.HI  None       None     West       None   \n",
       "4       US16     US.ID  None       None     West       None   \n",
       "\n",
       "           region_big big_code  provnum_ne  gadm_level  check_me  scaleran_1  \\\n",
       "0  West North Central     None           0           1        10           2   \n",
       "1            Mountain     None           0           1         0           2   \n",
       "2  West North Central     None           0           1         0           2   \n",
       "3             Pacific     None           0           1         0           2   \n",
       "4            Mountain     None           0           1         0           2   \n",
       "\n",
       "   datarank  abbrev postal  area_sqkm  sameascity  labelrank  \\\n",
       "0         1   Minn.     MN          0         -99          0   \n",
       "1         1   Mont.     MT          0         -99          0   \n",
       "2         1    N.D.     ND          0         -99          0   \n",
       "3         1  Hawaii     HI          0         -99          0   \n",
       "4         1   Idaho     ID          0         -99          0   \n",
       "\n",
       "           featurec_1                     admin  name_len  mapcolor9  \\\n",
       "0  Admin-1 scale rank  United States of America         9          1   \n",
       "1  Admin-1 scale rank  United States of America         7          1   \n",
       "2  Admin-1 scale rank  United States of America        12          1   \n",
       "3  Admin-1 scale rank  United States of America         6          1   \n",
       "4  Admin-1 scale rank  United States of America         5          1   \n",
       "\n",
       "   mapcolor13        featureclass  \\\n",
       "0           1  Admin-1 scale rank   \n",
       "1           1  Admin-1 scale rank   \n",
       "2           1  Admin-1 scale rank   \n",
       "3           1  Admin-1 scale rank   \n",
       "4           1  Admin-1 scale rank   \n",
       "\n",
       "                                            geometry  \n",
       "0  POLYGON ((-89.59941 48.01027, -89.48888 48.013...  \n",
       "1  POLYGON ((-111.19419 44.56116, -111.29155 44.7...  \n",
       "2  POLYGON ((-96.60136 46.35136, -96.53891 46.199...  \n",
       "3  MULTIPOLYGON (((-155.93665 19.05939, -155.9080...  \n",
       "4  POLYGON ((-111.04973 44.48816, -111.05024 42.0...  "
      ]
     },
     "execution_count": 5,
     "metadata": {},
     "output_type": "execute_result"
    }
   ],
   "source": [
    "us_states.head()"
   ]
  },
  {
   "cell_type": "code",
   "execution_count": 6,
   "metadata": {},
   "outputs": [
    {
     "data": {
      "image/png": "[encoded data removed]",
      "text/plain": [
       "<Figure size 1080x1080 with 1 Axes>"
      ]
     },
     "metadata": {
      "needs_background": "light"
     },
     "output_type": "display_data"
    }
   ],
   "source": [
    "# plot us_states\n",
    "us_states.plot(figsize=(15,15));"
   ]
  },
  {
   "cell_type": "code",
   "execution_count": 7,
   "metadata": {},
   "outputs": [
    {
     "data": {
      "text/plain": [
       "geopandas.geodataframe.GeoDataFrame"
      ]
     },
     "execution_count": 7,
     "metadata": {},
     "output_type": "execute_result"
    }
   ],
   "source": [
    "# import national park units for entire US\n",
    "us_nps = gpd.read_file (\"./data/NPS_-_Land_Resources_Division_Boundary_and_Tract_Data_Service.shp\")\n",
    "\n",
    "# verify type\n",
    "type(us_nps)"
   ]
  },
  {
   "cell_type": "code",
   "execution_count": 8,
   "metadata": {},
   "outputs": [
    {
     "data": {
      "text/plain": [
       "{'init': 'epsg:3857'}"
      ]
     },
     "execution_count": 8,
     "metadata": {},
     "output_type": "execute_result"
    }
   ],
   "source": [
    "# check coordinate reference system\n",
    "us_nps.crs # {'init': 'epsg:3857'}"
   ]
  },
  {
   "cell_type": "code",
   "execution_count": 9,
   "metadata": {},
   "outputs": [
    {
     "name": "stdout",
     "output_type": "stream",
     "text": [
      "<class 'geopandas.geodataframe.GeoDataFrame'>\n",
      "RangeIndex: 426 entries, 0 to 425\n",
      "Data columns (total 20 columns):\n",
      " #   Column      Non-Null Count  Dtype   \n",
      "---  ------      --------------  -----   \n",
      " 0   OBJECTID    426 non-null    int64   \n",
      " 1   UNIT_CODE   426 non-null    object  \n",
      " 2   GIS_Notes   426 non-null    object  \n",
      " 3   UNIT_NAME   426 non-null    object  \n",
      " 4   DATE_EDIT   426 non-null    object  \n",
      " 5   STATE       426 non-null    object  \n",
      " 6   REGION      426 non-null    object  \n",
      " 7   GNIS_ID     426 non-null    object  \n",
      " 8   UNIT_TYPE   426 non-null    object  \n",
      " 9   CREATED_BY  426 non-null    object  \n",
      " 10  METADATA    426 non-null    object  \n",
      " 11  PARKNAME    426 non-null    object  \n",
      " 12  CreationDa  426 non-null    object  \n",
      " 13  Creator     426 non-null    object  \n",
      " 14  EditDate    426 non-null    object  \n",
      " 15  Editor      426 non-null    object  \n",
      " 16  Shape__Are  426 non-null    float64 \n",
      " 17  Shape__Len  426 non-null    float64 \n",
      " 18  GlobalID    426 non-null    object  \n",
      " 19  geometry    426 non-null    geometry\n",
      "dtypes: float64(2), geometry(1), int64(1), object(16)\n",
      "memory usage: 66.7+ KB\n"
     ]
    }
   ],
   "source": [
    "# inspect data fields for nps units\n",
    "# there is a state field that would allow us to filter and only show national parks in the state of Utah \n",
    "# but we want to do this spatially\n",
    "us_nps.info() "
   ]
  },
  {
   "cell_type": "code",
   "execution_count": 10,
   "metadata": {},
   "outputs": [
    {
     "data": {
      "text/html": [
       "<div>\n",
       "<style scoped>\n",
       "    .dataframe tbody tr th:only-of-type {\n",
       "        vertical-align: middle;\n",
       "    }\n",
       "\n",
       "    .dataframe tbody tr th {\n",
       "        vertical-align: top;\n",
       "    }\n",
       "\n",
       "    .dataframe thead th {\n",
       "        text-align: right;\n",
       "    }\n",
       "</style>\n",
       "<table border=\"1\" class=\"dataframe\">\n",
       "  <thead>\n",
       "    <tr style=\"text-align: right;\">\n",
       "      <th></th>\n",
       "      <th>OBJECTID</th>\n",
       "      <th>UNIT_CODE</th>\n",
       "      <th>GIS_Notes</th>\n",
       "      <th>UNIT_NAME</th>\n",
       "      <th>DATE_EDIT</th>\n",
       "      <th>STATE</th>\n",
       "      <th>REGION</th>\n",
       "      <th>GNIS_ID</th>\n",
       "      <th>UNIT_TYPE</th>\n",
       "      <th>CREATED_BY</th>\n",
       "      <th>METADATA</th>\n",
       "      <th>PARKNAME</th>\n",
       "      <th>CreationDa</th>\n",
       "      <th>Creator</th>\n",
       "      <th>EditDate</th>\n",
       "      <th>Editor</th>\n",
       "      <th>Shape__Are</th>\n",
       "      <th>Shape__Len</th>\n",
       "      <th>GlobalID</th>\n",
       "      <th>geometry</th>\n",
       "    </tr>\n",
       "  </thead>\n",
       "  <tbody>\n",
       "    <tr>\n",
       "      <th>0</th>\n",
       "      <td>1</td>\n",
       "      <td>AMME</td>\n",
       "      <td>PRELIMINARY - Data has not completed the entir...</td>\n",
       "      <td>American Memorial Park</td>\n",
       "      <td>2015-04-22</td>\n",
       "      <td>MP</td>\n",
       "      <td>PW</td>\n",
       "      <td>1879026</td>\n",
       "      <td>Park</td>\n",
       "      <td>Lands</td>\n",
       "      <td>Preliminary data. Contact the Land Resources P...</td>\n",
       "      <td>American Memorial Park</td>\n",
       "      <td>2020-01-09</td>\n",
       "      <td>SCarlton@nps.gov_nps</td>\n",
       "      <td>2020-01-09</td>\n",
       "      <td>SCarlton@nps.gov_nps</td>\n",
       "      <td>6.113585e+05</td>\n",
       "      <td>7740.973865</td>\n",
       "      <td>79037b52-9d9c-4f8c-b65b-70b810814fb0</td>\n",
       "      <td>POLYGON ((16221864.905 1714852.206, 16221867.9...</td>\n",
       "    </tr>\n",
       "    <tr>\n",
       "      <th>1</th>\n",
       "      <td>2</td>\n",
       "      <td>CEBE</td>\n",
       "      <td>Lands - http://landsnet.nps.gov/tractsnet/docu...</td>\n",
       "      <td>Cedar Creek and Belle Grove National Historica...</td>\n",
       "      <td>2005-04-07</td>\n",
       "      <td>VA</td>\n",
       "      <td>NE</td>\n",
       "      <td>1985663</td>\n",
       "      <td>National Historical Park</td>\n",
       "      <td>Lands</td>\n",
       "      <td>https://irma.nps.gov/DataStore/Reference/Profi...</td>\n",
       "      <td>Cedar Creek &amp; Belle Grove</td>\n",
       "      <td>2020-01-09</td>\n",
       "      <td>SCarlton@nps.gov_nps</td>\n",
       "      <td>2020-06-04</td>\n",
       "      <td>RJohnson@nps.gov_nps</td>\n",
       "      <td>2.328283e+07</td>\n",
       "      <td>53250.857647</td>\n",
       "      <td>dfdc7906-209d-42e5-95e8-5a0377ca9b06</td>\n",
       "      <td>MULTIPOLYGON (((-8715759.414 4724026.776, -871...</td>\n",
       "    </tr>\n",
       "    <tr>\n",
       "      <th>2</th>\n",
       "      <td>3</td>\n",
       "      <td>LIBI</td>\n",
       "      <td>Lands - http://landsnet.nps.gov/tractsnet/docu...</td>\n",
       "      <td>Little Bighorn Battlefield National Monument</td>\n",
       "      <td>2005-02-23</td>\n",
       "      <td>MT</td>\n",
       "      <td>IM</td>\n",
       "      <td>806297</td>\n",
       "      <td>National Monument</td>\n",
       "      <td>Lands</td>\n",
       "      <td>https://irma.nps.gov/DataStore/Reference/Profi...</td>\n",
       "      <td>Little Bighorn Battlefield</td>\n",
       "      <td>2020-01-09</td>\n",
       "      <td>SCarlton@nps.gov_nps</td>\n",
       "      <td>2020-06-04</td>\n",
       "      <td>RJohnson@nps.gov_nps</td>\n",
       "      <td>6.437513e+06</td>\n",
       "      <td>19524.580108</td>\n",
       "      <td>a3affc26-f98a-417d-aa5b-41cfb4988cc8</td>\n",
       "      <td>MULTIPOLYGON (((-11953415.314 5703937.476, -11...</td>\n",
       "    </tr>\n",
       "    <tr>\n",
       "      <th>3</th>\n",
       "      <td>4</td>\n",
       "      <td>CAVO</td>\n",
       "      <td>Lands - http://landsnet.nps.gov/tractsnet/docu...</td>\n",
       "      <td>Capulin Volcano National Monument</td>\n",
       "      <td>2004-07-22</td>\n",
       "      <td>NM</td>\n",
       "      <td>IM</td>\n",
       "      <td>936867</td>\n",
       "      <td>National Monument</td>\n",
       "      <td>Lands</td>\n",
       "      <td>https://irma.nps.gov/DataStore/Reference/Profi...</td>\n",
       "      <td>Capulin Volcano</td>\n",
       "      <td>2020-01-09</td>\n",
       "      <td>SCarlton@nps.gov_nps</td>\n",
       "      <td>2020-06-04</td>\n",
       "      <td>RJohnson@nps.gov_nps</td>\n",
       "      <td>4.997144e+06</td>\n",
       "      <td>10529.570772</td>\n",
       "      <td>646548c2-c5b8-4298-a6b2-a82b5977581e</td>\n",
       "      <td>POLYGON ((-11575101.835 4409222.280, -11574603...</td>\n",
       "    </tr>\n",
       "    <tr>\n",
       "      <th>4</th>\n",
       "      <td>5</td>\n",
       "      <td>FOBO</td>\n",
       "      <td>Lands - http://landsnet.nps.gov/tractsnet/docu...</td>\n",
       "      <td>Fort Bowie National Historic Site</td>\n",
       "      <td>2004-05-12</td>\n",
       "      <td>AZ</td>\n",
       "      <td>IM</td>\n",
       "      <td>1888916</td>\n",
       "      <td>National Historic Site</td>\n",
       "      <td>Lands</td>\n",
       "      <td>https://irma.nps.gov/DataStore/Reference/Profi...</td>\n",
       "      <td>Fort Bowie</td>\n",
       "      <td>2020-01-09</td>\n",
       "      <td>SCarlton@nps.gov_nps</td>\n",
       "      <td>2020-06-04</td>\n",
       "      <td>RJohnson@nps.gov_nps</td>\n",
       "      <td>5.650399e+06</td>\n",
       "      <td>18638.556950</td>\n",
       "      <td>a19874b5-9d2e-409b-ba2a-8b52f4649602</td>\n",
       "      <td>POLYGON ((-12187153.674 3783174.666, -12187626...</td>\n",
       "    </tr>\n",
       "  </tbody>\n",
       "</table>\n",
       "</div>"
      ],
      "text/plain": [
       "   OBJECTID UNIT_CODE                                          GIS_Notes  \\\n",
       "0         1      AMME  PRELIMINARY - Data has not completed the entir...   \n",
       "1         2      CEBE  Lands - http://landsnet.nps.gov/tractsnet/docu...   \n",
       "2         3      LIBI  Lands - http://landsnet.nps.gov/tractsnet/docu...   \n",
       "3         4      CAVO  Lands - http://landsnet.nps.gov/tractsnet/docu...   \n",
       "4         5      FOBO  Lands - http://landsnet.nps.gov/tractsnet/docu...   \n",
       "\n",
       "                                           UNIT_NAME   DATE_EDIT STATE REGION  \\\n",
       "0                             American Memorial Park  2015-04-22    MP     PW   \n",
       "1  Cedar Creek and Belle Grove National Historica...  2005-04-07    VA     NE   \n",
       "2       Little Bighorn Battlefield National Monument  2005-02-23    MT     IM   \n",
       "3                  Capulin Volcano National Monument  2004-07-22    NM     IM   \n",
       "4                  Fort Bowie National Historic Site  2004-05-12    AZ     IM   \n",
       "\n",
       "   GNIS_ID                 UNIT_TYPE CREATED_BY  \\\n",
       "0  1879026                      Park      Lands   \n",
       "1  1985663  National Historical Park      Lands   \n",
       "2   806297         National Monument      Lands   \n",
       "3   936867         National Monument      Lands   \n",
       "4  1888916    National Historic Site      Lands   \n",
       "\n",
       "                                            METADATA  \\\n",
       "0  Preliminary data. Contact the Land Resources P...   \n",
       "1  https://irma.nps.gov/DataStore/Reference/Profi...   \n",
       "2  https://irma.nps.gov/DataStore/Reference/Profi...   \n",
       "3  https://irma.nps.gov/DataStore/Reference/Profi...   \n",
       "4  https://irma.nps.gov/DataStore/Reference/Profi...   \n",
       "\n",
       "                     PARKNAME  CreationDa               Creator    EditDate  \\\n",
       "0      American Memorial Park  2020-01-09  SCarlton@nps.gov_nps  2020-01-09   \n",
       "1   Cedar Creek & Belle Grove  2020-01-09  SCarlton@nps.gov_nps  2020-06-04   \n",
       "2  Little Bighorn Battlefield  2020-01-09  SCarlton@nps.gov_nps  2020-06-04   \n",
       "3             Capulin Volcano  2020-01-09  SCarlton@nps.gov_nps  2020-06-04   \n",
       "4                  Fort Bowie  2020-01-09  SCarlton@nps.gov_nps  2020-06-04   \n",
       "\n",
       "                 Editor    Shape__Are    Shape__Len  \\\n",
       "0  SCarlton@nps.gov_nps  6.113585e+05   7740.973865   \n",
       "1  RJohnson@nps.gov_nps  2.328283e+07  53250.857647   \n",
       "2  RJohnson@nps.gov_nps  6.437513e+06  19524.580108   \n",
       "3  RJohnson@nps.gov_nps  4.997144e+06  10529.570772   \n",
       "4  RJohnson@nps.gov_nps  5.650399e+06  18638.556950   \n",
       "\n",
       "                               GlobalID  \\\n",
       "0  79037b52-9d9c-4f8c-b65b-70b810814fb0   \n",
       "1  dfdc7906-209d-42e5-95e8-5a0377ca9b06   \n",
       "2  a3affc26-f98a-417d-aa5b-41cfb4988cc8   \n",
       "3  646548c2-c5b8-4298-a6b2-a82b5977581e   \n",
       "4  a19874b5-9d2e-409b-ba2a-8b52f4649602   \n",
       "\n",
       "                                            geometry  \n",
       "0  POLYGON ((16221864.905 1714852.206, 16221867.9...  \n",
       "1  MULTIPOLYGON (((-8715759.414 4724026.776, -871...  \n",
       "2  MULTIPOLYGON (((-11953415.314 5703937.476, -11...  \n",
       "3  POLYGON ((-11575101.835 4409222.280, -11574603...  \n",
       "4  POLYGON ((-12187153.674 3783174.666, -12187626...  "
      ]
     },
     "execution_count": 10,
     "metadata": {},
     "output_type": "execute_result"
    }
   ],
   "source": [
    "# inspect first 5 records\n",
    "us_nps.head()"
   ]
  },
  {
   "cell_type": "code",
   "execution_count": 11,
   "metadata": {},
   "outputs": [
    {
     "data": {
      "image/png": "[encoded data removed]",
      "text/plain": [
       "<Figure size 1080x1080 with 1 Axes>"
      ]
     },
     "metadata": {
      "needs_background": "light"
     },
     "output_type": "display_data"
    }
   ],
   "source": [
    "# plot national parks in the US and territories\n",
    "us_nps.plot(figsize=(15,15));"
   ]
  },
  {
   "cell_type": "code",
   "execution_count": 12,
   "metadata": {},
   "outputs": [
    {
     "data": {
      "text/plain": [
       "geopandas.geodataframe.GeoDataFrame"
      ]
     },
     "execution_count": 12,
     "metadata": {},
     "output_type": "execute_result"
    }
   ],
   "source": [
    "# import national monuments and conservation areas in Utah\n",
    "ut_nms = gpd.read_file (\"./data/BLMMonumentsAndNCAs.shp\")\n",
    "\n",
    "# verify type\n",
    "type(ut_nms)"
   ]
  },
  {
   "cell_type": "code",
   "execution_count": 13,
   "metadata": {},
   "outputs": [
    {
     "data": {
      "text/plain": [
       "{'init': 'epsg:26912'}"
      ]
     },
     "execution_count": 13,
     "metadata": {},
     "output_type": "execute_result"
    }
   ],
   "source": [
    "# check coordinate reference system\n",
    "ut_nms.crs # {'init': 'epsg:26912'}"
   ]
  },
  {
   "cell_type": "code",
   "execution_count": 14,
   "metadata": {},
   "outputs": [
    {
     "data": {
      "text/html": [
       "<div>\n",
       "<style scoped>\n",
       "    .dataframe tbody tr th:only-of-type {\n",
       "        vertical-align: middle;\n",
       "    }\n",
       "\n",
       "    .dataframe tbody tr th {\n",
       "        vertical-align: top;\n",
       "    }\n",
       "\n",
       "    .dataframe thead th {\n",
       "        text-align: right;\n",
       "    }\n",
       "</style>\n",
       "<table border=\"1\" class=\"dataframe\">\n",
       "  <thead>\n",
       "    <tr style=\"text-align: right;\">\n",
       "      <th></th>\n",
       "      <th>NLCS_ID</th>\n",
       "      <th>NLCS_NAME</th>\n",
       "      <th>CASEFILE_N</th>\n",
       "      <th>NLCS_TYPE</th>\n",
       "      <th>ADMIN_ST</th>\n",
       "      <th>Shape_Leng</th>\n",
       "      <th>Shape_Area</th>\n",
       "      <th>geometry</th>\n",
       "    </tr>\n",
       "  </thead>\n",
       "  <tbody>\n",
       "    <tr>\n",
       "      <th>0</th>\n",
       "      <td>NLCS000853</td>\n",
       "      <td>Beaver Dam Wash - Designated Road Area</td>\n",
       "      <td>UNK</td>\n",
       "      <td>National Conservation Area</td>\n",
       "      <td>UT</td>\n",
       "      <td>31518.003797</td>\n",
       "      <td>4.127071e+07</td>\n",
       "      <td>POLYGON ((247247.560 4108697.080, 247231.790 4...</td>\n",
       "    </tr>\n",
       "    <tr>\n",
       "      <th>1</th>\n",
       "      <td>NLCS000853</td>\n",
       "      <td>Beaver Dam Wash - Designated Road Area</td>\n",
       "      <td>UNK</td>\n",
       "      <td>National Conservation Area</td>\n",
       "      <td>UT</td>\n",
       "      <td>45362.282685</td>\n",
       "      <td>9.899313e+07</td>\n",
       "      <td>POLYGON ((234383.940 4111872.210, 234384.070 4...</td>\n",
       "    </tr>\n",
       "    <tr>\n",
       "      <th>2</th>\n",
       "      <td>NLCS000854</td>\n",
       "      <td>Beaver Dam Wash</td>\n",
       "      <td>UNK</td>\n",
       "      <td>National Conservation Area</td>\n",
       "      <td>UT</td>\n",
       "      <td>63883.361667</td>\n",
       "      <td>6.104458e+07</td>\n",
       "      <td>POLYGON ((237919.940 4112730.020, 237916.830 4...</td>\n",
       "    </tr>\n",
       "    <tr>\n",
       "      <th>3</th>\n",
       "      <td>NLCS000854</td>\n",
       "      <td>Beaver Dam Wash</td>\n",
       "      <td>UNK</td>\n",
       "      <td>National Conservation Area</td>\n",
       "      <td>UT</td>\n",
       "      <td>33139.455448</td>\n",
       "      <td>2.264953e+07</td>\n",
       "      <td>POLYGON ((231949.330 4118595.890, 232352.060 4...</td>\n",
       "    </tr>\n",
       "    <tr>\n",
       "      <th>4</th>\n",
       "      <td>NLCS000853</td>\n",
       "      <td>Beaver Dam Wash - Designated Road Area</td>\n",
       "      <td>UNK</td>\n",
       "      <td>National Conservation Area</td>\n",
       "      <td>UT</td>\n",
       "      <td>44248.805230</td>\n",
       "      <td>6.780567e+07</td>\n",
       "      <td>POLYGON ((231779.250 4126670.990, 231779.830 4...</td>\n",
       "    </tr>\n",
       "  </tbody>\n",
       "</table>\n",
       "</div>"
      ],
      "text/plain": [
       "      NLCS_ID                               NLCS_NAME CASEFILE_N  \\\n",
       "0  NLCS000853  Beaver Dam Wash - Designated Road Area        UNK   \n",
       "1  NLCS000853  Beaver Dam Wash - Designated Road Area        UNK   \n",
       "2  NLCS000854                         Beaver Dam Wash        UNK   \n",
       "3  NLCS000854                         Beaver Dam Wash        UNK   \n",
       "4  NLCS000853  Beaver Dam Wash - Designated Road Area        UNK   \n",
       "\n",
       "                    NLCS_TYPE ADMIN_ST    Shape_Leng    Shape_Area  \\\n",
       "0  National Conservation Area       UT  31518.003797  4.127071e+07   \n",
       "1  National Conservation Area       UT  45362.282685  9.899313e+07   \n",
       "2  National Conservation Area       UT  63883.361667  6.104458e+07   \n",
       "3  National Conservation Area       UT  33139.455448  2.264953e+07   \n",
       "4  National Conservation Area       UT  44248.805230  6.780567e+07   \n",
       "\n",
       "                                            geometry  \n",
       "0  POLYGON ((247247.560 4108697.080, 247231.790 4...  \n",
       "1  POLYGON ((234383.940 4111872.210, 234384.070 4...  \n",
       "2  POLYGON ((237919.940 4112730.020, 237916.830 4...  \n",
       "3  POLYGON ((231949.330 4118595.890, 232352.060 4...  \n",
       "4  POLYGON ((231779.250 4126670.990, 231779.830 4...  "
      ]
     },
     "execution_count": 14,
     "metadata": {},
     "output_type": "execute_result"
    }
   ],
   "source": [
    "# inspect first 5 rows of Utah National Monuments\n",
    "ut_nms.head()"
   ]
  },
  {
   "cell_type": "code",
   "execution_count": 15,
   "metadata": {},
   "outputs": [
    {
     "data": {
      "image/png": "[encoded data removed]",
      "text/plain": [
       "<Figure size 1080x1080 with 1 Axes>"
      ]
     },
     "metadata": {
      "needs_background": "light"
     },
     "output_type": "display_data"
    }
   ],
   "source": [
    "# plot Utah National Monuments\n",
    "ut_nms.plot(figsize=(15,15));"
   ]
  },
  {
   "cell_type": "code",
   "execution_count": null,
   "metadata": {},
   "outputs": [],
   "source": []
  },
  {
   "cell_type": "code",
   "execution_count": 16,
   "metadata": {},
   "outputs": [],
   "source": [
    "# read birds csv a GeoPandasDataFrame, adding encoding to UTF-8 allows geoJSON export later in notebook\n",
    "sw_birds = gpd.read_file('./data/11birdspecies_southwest.csv', encoding='UTF-8')"
   ]
  },
  {
   "cell_type": "code",
   "execution_count": 17,
   "metadata": {},
   "outputs": [
    {
     "data": {
      "text/plain": [
       "geopandas.geodataframe.GeoDataFrame"
      ]
     },
     "execution_count": 17,
     "metadata": {},
     "output_type": "execute_result"
    }
   ],
   "source": [
    "# verify type\n",
    "type(sw_birds)"
   ]
  },
  {
   "cell_type": "code",
   "execution_count": 18,
   "metadata": {},
   "outputs": [
    {
     "name": "stdout",
     "output_type": "stream",
     "text": [
      "<class 'geopandas.geodataframe.GeoDataFrame'>\n",
      "RangeIndex: 27975 entries, 0 to 27974\n",
      "Data columns (total 15 columns):\n",
      " #   Column                  Non-Null Count  Dtype   \n",
      "---  ------                  --------------  -----   \n",
      " 0   field_1                 27975 non-null  object  \n",
      " 1   individualCount         27975 non-null  object  \n",
      " 2   occurrenceStatus        27975 non-null  object  \n",
      " 3   year                    27975 non-null  object  \n",
      " 4   month                   27975 non-null  object  \n",
      " 5   day                     27975 non-null  object  \n",
      " 6   stateProvince           27975 non-null  object  \n",
      " 7   county                  27975 non-null  object  \n",
      " 8   locality                27975 non-null  object  \n",
      " 9   decimalLatitude         27975 non-null  object  \n",
      " 10  decimalLongitude        27975 non-null  object  \n",
      " 11  scientificName          27975 non-null  object  \n",
      " 12  vernacularName          27975 non-null  object  \n",
      " 13  verbatimScientificName  27975 non-null  object  \n",
      " 14  geometry                0 non-null      geometry\n",
      "dtypes: geometry(1), object(14)\n",
      "memory usage: 3.2+ MB\n"
     ]
    }
   ],
   "source": [
    "# get basic info birds - lat lons are string type, geomtry field isn't being interpreted by GeoPandas\n",
    "sw_birds.info()"
   ]
  },
  {
   "cell_type": "code",
   "execution_count": 19,
   "metadata": {},
   "outputs": [],
   "source": [
    "# convert lat/lon to series to convert to floating point values\n",
    "sw_birds[[\"decimalLatitude\", \"decimalLongitude\"]] = sw_birds[[\"decimalLatitude\", \"decimalLongitude\"]].apply(pd.to_numeric)"
   ]
  },
  {
   "cell_type": "code",
   "execution_count": 20,
   "metadata": {},
   "outputs": [
    {
     "name": "stdout",
     "output_type": "stream",
     "text": [
      "<class 'geopandas.geodataframe.GeoDataFrame'>\n",
      "RangeIndex: 27975 entries, 0 to 27974\n",
      "Data columns (total 15 columns):\n",
      " #   Column                  Non-Null Count  Dtype   \n",
      "---  ------                  --------------  -----   \n",
      " 0   field_1                 27975 non-null  object  \n",
      " 1   individualCount         27975 non-null  object  \n",
      " 2   occurrenceStatus        27975 non-null  object  \n",
      " 3   year                    27975 non-null  object  \n",
      " 4   month                   27975 non-null  object  \n",
      " 5   day                     27975 non-null  object  \n",
      " 6   stateProvince           27975 non-null  object  \n",
      " 7   county                  27975 non-null  object  \n",
      " 8   locality                27975 non-null  object  \n",
      " 9   decimalLatitude         27975 non-null  float64 \n",
      " 10  decimalLongitude        27975 non-null  float64 \n",
      " 11  scientificName          27975 non-null  object  \n",
      " 12  vernacularName          27975 non-null  object  \n",
      " 13  verbatimScientificName  27975 non-null  object  \n",
      " 14  geometry                0 non-null      geometry\n",
      "dtypes: float64(2), geometry(1), object(12)\n",
      "memory usage: 3.2+ MB\n"
     ]
    }
   ],
   "source": [
    "sw_birds.info() # verify conversion to float"
   ]
  },
  {
   "cell_type": "code",
   "execution_count": 21,
   "metadata": {},
   "outputs": [],
   "source": [
    "# create geopandas geometry from lat/lon\n",
    "sw_birds = gpd.GeoDataFrame(\n",
    "    sw_birds, geometry=gpd.points_from_xy(x=sw_birds.decimalLongitude, y=sw_birds.decimalLatitude))"
   ]
  },
  {
   "cell_type": "code",
   "execution_count": 22,
   "metadata": {},
   "outputs": [
    {
     "data": {
      "image/png": "[encoded data removed]",
      "text/plain": [
       "<Figure size 1080x1080 with 1 Axes>"
      ]
     },
     "metadata": {
      "needs_background": "light"
     },
     "output_type": "display_data"
    }
   ],
   "source": [
    "# plot birds data\n",
    "sw_birds.plot(figsize=(15,15));"
   ]
  },
  {
   "cell_type": "code",
   "execution_count": 23,
   "metadata": {},
   "outputs": [],
   "source": [
    "sw_birds.to_file(\"./data/sw_birds.geojson\", driver='GeoJSON')"
   ]
  }
 ],
 "metadata": {
  "kernelspec": {
   "display_name": "Python 3",
   "language": "python",
   "name": "python3"
  },
  "language_info": {
   "codemirror_mode": {
    "name": "ipython",
    "version": 3
   },
   "file_extension": ".py",
   "mimetype": "text/x-python",
   "name": "python",
   "nbconvert_exporter": "python",
   "pygments_lexer": "ipython3",
   "version": "3.8.5"
  }
 },
 "nbformat": 4,
 "nbformat_minor": 4
}
